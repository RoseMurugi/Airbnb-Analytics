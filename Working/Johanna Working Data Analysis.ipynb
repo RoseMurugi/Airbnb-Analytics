{
 "cells": [
  {
   "cell_type": "code",
   "execution_count": 1,
   "metadata": {},
   "outputs": [
    {
     "data": {
      "text/html": [
       "<div>\n",
       "<style scoped>\n",
       "    .dataframe tbody tr th:only-of-type {\n",
       "        vertical-align: middle;\n",
       "    }\n",
       "\n",
       "    .dataframe tbody tr th {\n",
       "        vertical-align: top;\n",
       "    }\n",
       "\n",
       "    .dataframe thead th {\n",
       "        text-align: right;\n",
       "    }\n",
       "</style>\n",
       "<table border=\"1\" class=\"dataframe\">\n",
       "  <thead>\n",
       "    <tr style=\"text-align: right;\">\n",
       "      <th></th>\n",
       "      <th>Unnamed: 0</th>\n",
       "      <th>room_type</th>\n",
       "      <th>city</th>\n",
       "      <th>neighborhood</th>\n",
       "      <th>reviews</th>\n",
       "      <th>overall_satisfaction</th>\n",
       "      <th>accommodates</th>\n",
       "      <th>bedrooms</th>\n",
       "      <th>price</th>\n",
       "      <th>latitude</th>\n",
       "      <th>longitude</th>\n",
       "      <th>location</th>\n",
       "    </tr>\n",
       "  </thead>\n",
       "  <tbody>\n",
       "    <tr>\n",
       "      <th>0</th>\n",
       "      <td>0</td>\n",
       "      <td>Shared room</td>\n",
       "      <td>San Francisco</td>\n",
       "      <td>North Beach</td>\n",
       "      <td>93</td>\n",
       "      <td>4.5</td>\n",
       "      <td>4</td>\n",
       "      <td>1.0</td>\n",
       "      <td>147.0</td>\n",
       "      <td>37.799263</td>\n",
       "      <td>-122.404322</td>\n",
       "      <td>0101000020E610000069C36169E0995EC091F3FE3F4EE6...</td>\n",
       "    </tr>\n",
       "    <tr>\n",
       "      <th>1</th>\n",
       "      <td>1</td>\n",
       "      <td>Shared room</td>\n",
       "      <td>San Francisco</td>\n",
       "      <td>North Beach</td>\n",
       "      <td>115</td>\n",
       "      <td>4.5</td>\n",
       "      <td>4</td>\n",
       "      <td>1.0</td>\n",
       "      <td>137.0</td>\n",
       "      <td>37.798920</td>\n",
       "      <td>-122.404085</td>\n",
       "      <td>0101000020E610000077F35487DC995EC0670FB40243E6...</td>\n",
       "    </tr>\n",
       "    <tr>\n",
       "      <th>2</th>\n",
       "      <td>2</td>\n",
       "      <td>Shared room</td>\n",
       "      <td>San Francisco</td>\n",
       "      <td>Downtown/Civic Center</td>\n",
       "      <td>4</td>\n",
       "      <td>5.0</td>\n",
       "      <td>2</td>\n",
       "      <td>1.0</td>\n",
       "      <td>145.0</td>\n",
       "      <td>37.785847</td>\n",
       "      <td>-122.416518</td>\n",
       "      <td>0101000020E6100000800C1D3BA89A5EC071546EA296E4...</td>\n",
       "    </tr>\n",
       "    <tr>\n",
       "      <th>3</th>\n",
       "      <td>3</td>\n",
       "      <td>Shared room</td>\n",
       "      <td>San Francisco</td>\n",
       "      <td>Downtown/Civic Center</td>\n",
       "      <td>8</td>\n",
       "      <td>4.0</td>\n",
       "      <td>14</td>\n",
       "      <td>1.0</td>\n",
       "      <td>138.0</td>\n",
       "      <td>37.782079</td>\n",
       "      <td>-122.421775</td>\n",
       "      <td>0101000020E61000004ED1915CFE9A5EC0B7F1272A1BE4...</td>\n",
       "    </tr>\n",
       "    <tr>\n",
       "      <th>4</th>\n",
       "      <td>4</td>\n",
       "      <td>Shared room</td>\n",
       "      <td>San Francisco</td>\n",
       "      <td>Financial District</td>\n",
       "      <td>125</td>\n",
       "      <td>4.5</td>\n",
       "      <td>4</td>\n",
       "      <td>1.0</td>\n",
       "      <td>90.0</td>\n",
       "      <td>37.794410</td>\n",
       "      <td>-122.404725</td>\n",
       "      <td>0101000020E6100000E9B7AF03E7995EC0C4CE143AAFE5...</td>\n",
       "    </tr>\n",
       "  </tbody>\n",
       "</table>\n",
       "</div>"
      ],
      "text/plain": [
       "   Unnamed: 0    room_type           city           neighborhood  reviews  \\\n",
       "0           0  Shared room  San Francisco            North Beach       93   \n",
       "1           1  Shared room  San Francisco            North Beach      115   \n",
       "2           2  Shared room  San Francisco  Downtown/Civic Center        4   \n",
       "3           3  Shared room  San Francisco  Downtown/Civic Center        8   \n",
       "4           4  Shared room  San Francisco     Financial District      125   \n",
       "\n",
       "   overall_satisfaction  accommodates  bedrooms  price   latitude   longitude  \\\n",
       "0                   4.5             4       1.0  147.0  37.799263 -122.404322   \n",
       "1                   4.5             4       1.0  137.0  37.798920 -122.404085   \n",
       "2                   5.0             2       1.0  145.0  37.785847 -122.416518   \n",
       "3                   4.0            14       1.0  138.0  37.782079 -122.421775   \n",
       "4                   4.5             4       1.0   90.0  37.794410 -122.404725   \n",
       "\n",
       "                                            location  \n",
       "0  0101000020E610000069C36169E0995EC091F3FE3F4EE6...  \n",
       "1  0101000020E610000077F35487DC995EC0670FB40243E6...  \n",
       "2  0101000020E6100000800C1D3BA89A5EC071546EA296E4...  \n",
       "3  0101000020E61000004ED1915CFE9A5EC0B7F1272A1BE4...  \n",
       "4  0101000020E6100000E9B7AF03E7995EC0C4CE143AAFE5...  "
      ]
     },
     "execution_count": 1,
     "metadata": {},
     "output_type": "execute_result"
    }
   ],
   "source": [
    "%matplotlib inline\n",
    "# Dependencies and Setup\n",
    "import matplotlib.pyplot as plt\n",
    "import pandas as pd\n",
    "import numpy as np\n",
    "from mpl_toolkits.mplot3d import axes3d\n",
    "\n",
    "# File to Load \n",
    "sf_data = \"../Resources/san_francisco/san_francisco_clean_data.csv\"\n",
    "\n",
    "sf_data_df = pd.read_csv(sf_data)\n",
    "\n",
    "sf_data_df.head()\n",
    "\n",
    "\n"
   ]
  },
  {
   "cell_type": "code",
   "execution_count": 13,
   "metadata": {},
   "outputs": [],
   "source": [
    "sf_roomlist =[]\n",
    "sf_roommean =[]\n",
    "\n",
    "\n",
    "\n",
    "\n",
    "# find mean price of rooms:\n",
    "sf_rooms=sf_data_df[\"room_type\"].unique()\n",
    "for x in sf_rooms:\n",
    "    sf_roomlist.append(x)\n",
    "    sf_roommean.append(sf_data_df.loc[sf_data_df[\"room_type\"]==x]\n",
    "                       [\"price\"].mean())"
   ]
  },
  {
   "cell_type": "code",
   "execution_count": 8,
   "metadata": {},
   "outputs": [
    {
     "name": "stdout",
     "output_type": "stream",
     "text": [
      "['Shared room', 'Entire home/apt', 'Private room']\n"
     ]
    }
   ],
   "source": [
    "print(sf_roomlist)"
   ]
  },
  {
   "cell_type": "code",
   "execution_count": 9,
   "metadata": {},
   "outputs": [
    {
     "name": "stdout",
     "output_type": "stream",
     "text": [
      "[79.39007092198581, 323.2922, 113.6543865126444]\n"
     ]
    }
   ],
   "source": [
    "print(sf_roommean)"
   ]
  },
  {
   "cell_type": "code",
   "execution_count": 18,
   "metadata": {},
   "outputs": [
    {
     "data": {
      "image/png": "[encoded data removed]",
      "text/plain": [
       "<Figure size 432x288 with 1 Axes>"
      ]
     },
     "metadata": {},
     "output_type": "display_data"
    }
   ],
   "source": [
    "objects = sf_roomlist\n",
    "y_pos = np.arange(len(objects))\n",
    "avg_price = sf_roommean\n",
    "\n",
    "\n",
    "plt.bar(y_pos, avg_price, align=\"center\", alpha=0.9, color=[\"darkblue\"])\n",
    "plt.xticks(y_pos, objects)\n",
    "plt.ylabel(\"Average Price\")\n",
    "plt.title(\"Room Type\")\n",
    "plt.grid()\n",
    "\n",
    "plt.show()"
   ]
  },
  {
   "cell_type": "code",
   "execution_count": 12,
   "metadata": {},
   "outputs": [],
   "source": [
    "#price range vs satisfaction\n",
    "\n",
    "sf_roomlist =[]\n",
    "sf_satisfaction =[]\n",
    "\n",
    "\n",
    "\n",
    "\n",
    "sf_rooms=sf_data_df[\"room_type\"].unique()\n",
    "for x in sf_rooms:\n",
    "    sf_roomlist.append(x)\n",
    "    sf_satisfaction.append(sf_data_df.loc[sf_data_df[\"room_type\"]==x][\"overall_satisfaction\"].mean())\n",
    "    \n"
   ]
  },
  {
   "cell_type": "code",
   "execution_count": 19,
   "metadata": {},
   "outputs": [
    {
     "data": {
      "image/png": "[encoded data removed]",
      "text/plain": [
       "<Figure size 432x288 with 1 Axes>"
      ]
     },
     "metadata": {},
     "output_type": "display_data"
    }
   ],
   "source": [
    "objects = sf_roomlist\n",
    "y_pos = np.arange(len(objects))\n",
    "avg_satisfaction = sf_satisfaction\n",
    "\n",
    "\n",
    "plt.bar(y_pos, avg_satisfaction, align=\"center\", alpha=0.9, color=[\"Purple\"])\n",
    "plt.xticks(y_pos, objects)\n",
    "plt.ylabel(\"Average Satisfaction\")\n",
    "plt.title(\"Room Type\")\n",
    "plt.grid()\n",
    "\n",
    "plt.show()"
   ]
  },
  {
   "cell_type": "code",
   "execution_count": null,
   "metadata": {},
   "outputs": [],
   "source": []
  }
 ],
 "metadata": {
  "kernelspec": {
   "display_name": "Python 3",
   "language": "python",
   "name": "python3"
  },
  "language_info": {
   "codemirror_mode": {
    "name": "ipython",
    "version": 3
   },
   "file_extension": ".py",
   "mimetype": "text/x-python",
   "name": "python",
   "nbconvert_exporter": "python",
   "pygments_lexer": "ipython3",
   "version": "3.6.5"
  }
 },
 "nbformat": 4,
 "nbformat_minor": 2
}
